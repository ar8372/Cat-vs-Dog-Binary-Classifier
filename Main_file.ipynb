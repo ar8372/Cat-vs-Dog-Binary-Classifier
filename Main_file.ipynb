{
 "cells": [
  {
   "cell_type": "code",
   "execution_count": null,
   "id": "5f893786",
   "metadata": {},
   "outputs": [],
   "source": [
    "import os"
   ]
  },
  {
   "cell_type": "code",
   "execution_count": null,
   "id": "76af6529",
   "metadata": {},
   "outputs": [],
   "source": [
    "list_images = os.listdir(r'./datasets/train')"
   ]
  },
  {
   "cell_type": "code",
   "execution_count": null,
   "id": "f9e13c21",
   "metadata": {},
   "outputs": [],
   "source": [
    "len(list_images)   # total 25000 training images 4% we will take for validation set that is 1000"
   ]
  },
  {
   "cell_type": "code",
   "execution_count": null,
   "id": "6f3d8233",
   "metadata": {},
   "outputs": [],
   "source": [
    "cat_nos=0\n",
    "dog_nos=0\n",
    "switching ='cat'    #cat/dog\n",
    "for i in list_images:\n",
    "    val = i[:3]\n",
    "    if val=='cat':\n",
    "        cat_nos += 1\n",
    "        if switching=='dog':\n",
    "            switching='cat'\n",
    "            print('switching at ',i,'with cat_nos ',cat_nos,' and dog_nos ',dog_nos)\n",
    "    if val =='dog':\n",
    "        dog_nos += 1\n",
    "        if switching=='cat':\n",
    "            switching='dog'\n",
    "            print('switching at ',i,'with cat_nos ',cat_nos,' and dog_nos ',dog_nos)\n",
    "    "
   ]
  },
  {
   "cell_type": "code",
   "execution_count": null,
   "id": "1a826aee",
   "metadata": {},
   "outputs": [],
   "source": [
    "cat_nos, dog_nos   # equal no of dogs and cats"
   ]
  },
  {
   "cell_type": "code",
   "execution_count": null,
   "id": "2e0c49e1",
   "metadata": {},
   "outputs": [],
   "source": [
    "cat_list = list_images[:12500]\n",
    "dog_list = list_images[12500:]\n",
    "len(cat_list), len(dog_list)"
   ]
  },
  {
   "cell_type": "markdown",
   "id": "560cadb3",
   "metadata": {},
   "source": [
    "## Let's create folders to store them"
   ]
  },
  {
   "cell_type": "code",
   "execution_count": null,
   "id": "b40d38fe",
   "metadata": {},
   "outputs": [],
   "source": [
    "os.makedirs(\"./datasets/final/train/cats\")\n",
    "os.makedirs(\"./datasets/final/train/dogs\")\n",
    "os.makedirs(\"./datasets/final/test/cats\")\n",
    "os.makedirs(\"./datasets/final/test/dogs\")"
   ]
  },
  {
   "cell_type": "markdown",
   "id": "4cc788ec",
   "metadata": {},
   "source": [
    "## Let's first create source folder"
   ]
  },
  {
   "cell_type": "code",
   "execution_count": null,
   "id": "bbe6cc17",
   "metadata": {},
   "outputs": [],
   "source": [
    "os.makedirs(\"./datasets/source/cats\")\n",
    "os.makedirs(\"./datasets/source/dogs\")"
   ]
  },
  {
   "cell_type": "code",
   "execution_count": null,
   "id": "a9549616",
   "metadata": {},
   "outputs": [],
   "source": [
    "## Let's first store split in source"
   ]
  },
  {
   "cell_type": "code",
   "execution_count": null,
   "id": "027ccdeb",
   "metadata": {},
   "outputs": [],
   "source": [
    "import shutil\n",
    "from shutil import copyfile"
   ]
  },
  {
   "cell_type": "code",
   "execution_count": null,
   "id": "1c8fcb35",
   "metadata": {},
   "outputs": [],
   "source": [
    "in_path = r\"./datasets/train\"\n",
    "# store in cats\n",
    "for img in cat_list:\n",
    "    source_path = os.path.join(in_path,img)\n",
    "    dest_path = os.path.join(\"./datasets/source/cats/\",img)\n",
    "    if os.path.getsize(source_path) >0:  # removes corrupt file\n",
    "        copyfile(source_path, dest_path)"
   ]
  },
  {
   "cell_type": "code",
   "execution_count": null,
   "id": "8c420333",
   "metadata": {},
   "outputs": [],
   "source": [
    "for img in dog_list:\n",
    "    source_path = os.path.join(in_path,img)\n",
    "    dest_path = os.path.join(\"./datasets/source/dogs/\",img)\n",
    "    if os.path.getsize(source_path) >0:  # removes corrupt file\n",
    "        copyfile(source_path, dest_path)"
   ]
  },
  {
   "cell_type": "markdown",
   "id": "e952ce72",
   "metadata": {},
   "source": [
    "## send images to for split"
   ]
  },
  {
   "cell_type": "code",
   "execution_count": null,
   "id": "761e76aa",
   "metadata": {},
   "outputs": [],
   "source": [
    "import random"
   ]
  },
  {
   "cell_type": "code",
   "execution_count": null,
   "id": "c8d72ec0",
   "metadata": {},
   "outputs": [],
   "source": [
    "def split_data(SOURCE, TRAINING, TESTING, SPLIT_SIZE):\n",
    "    images = os.listdir(SOURCE)\n",
    "    images = random.sample(images,len(images))\n",
    "    train_size = int(len(images)*SPLIT_SIZE)\n",
    "    for img in images[:train_size]:\n",
    "        PATH = os.path.join(SOURCE, img)\n",
    "        if os.path.getsize(PATH) >0:\n",
    "            DEST = os.path.join(TRAINING, img)\n",
    "            copyfile(PATH, DEST)\n",
    "    for img in images[train_size:]:\n",
    "        PATH = os.path.join(SOURCE, img)\n",
    "        if os.path.getsize(PATH)> 0:\n",
    "            DEST = os.path.join(TESTING, img)\n",
    "            copyfile(PATH, DEST)\n",
    "\n",
    "# split cats\n",
    "split_data('./datasets/source/cats', './datasets/final/train/cats','./datasets/final/test/cats', SPLIT_SIZE=.96)\n",
    "# split dogs\n",
    "split_data('./datasets/source/dogs', './datasets/final/train/dogs','./datasets/final/test/dogs', SPLIT_SIZE=.96)\n",
    "            "
   ]
  },
  {
   "cell_type": "markdown",
   "id": "8a54b671",
   "metadata": {},
   "source": [
    "## now data is splitted in train and test"
   ]
  },
  {
   "cell_type": "code",
   "execution_count": null,
   "id": "ad3db2ad",
   "metadata": {},
   "outputs": [],
   "source": [
    "# first lets see how many of each we have\n",
    "tr_c =r\"./datasets/final/train/cats\"\n",
    "tr_d =r\"./datasets/final/train/dogs\"\n",
    "te_c =r\"./datasets/final/test/cats\"\n",
    "te_d =r\"./datasets/final/test/dogs\"\n",
    "\n",
    "print(\"train cats:{} dogs:{} , test cats:{} dogs{}\".format(len(os.listdir(tr_c)),len(os.listdir(tr_d)),len(os.listdir(te_c)),len(os.listdir(te_d))))"
   ]
  },
  {
   "cell_type": "markdown",
   "id": "82f8e51b",
   "metadata": {},
   "source": [
    "# RUN FROM Here >>>>>>>>>>>>>>>>>>>>>>>>>>>>>>>>>>>>>>>>>"
   ]
  },
  {
   "cell_type": "markdown",
   "id": "120cda8c",
   "metadata": {},
   "source": [
    "## use DataGen"
   ]
  },
  {
   "cell_type": "code",
   "execution_count": null,
   "id": "c1087f11",
   "metadata": {},
   "outputs": [],
   "source": [
    "from tensorflow.keras.preprocessing.image import ImageDataGenerator\n",
    "train_dir=r\"./datasets/final/train\"\n",
    "test_dir =r\"./datasets/final/test\"\n",
    "train_datagen = ImageDataGenerator(rescale=1./255,\n",
    "                                  rotation_range=40,\n",
    "                                  width_shift_range=.2,\n",
    "                                  height_shift_range=.2,\n",
    "                                  shear_range=.2,\n",
    "                                  zoom_range=.2,\n",
    "                                  horizontal_flip=True,\n",
    "                                  fill_mode='nearest')\n",
    "\n",
    "train_generator = train_datagen.flow_from_directory(train_dir,\n",
    "                                                   target_size=(299,299),\n",
    "                                                   batch_size=64,\n",
    "                                                   class_mode='binary')\n",
    "\n",
    "validation_datagen = ImageDataGenerator(rescale=1./255)\n",
    "validation_generator = validation_datagen.flow_from_directory(test_dir,\n",
    "                                                             target_size=(299,299),\n",
    "                                                             batch_size=32,\n",
    "                                                             class_mode ='binary'\n",
    "                                                             )"
   ]
  },
  {
   "cell_type": "code",
   "execution_count": null,
   "id": "2513e02c",
   "metadata": {},
   "outputs": [],
   "source": [
    "## Now create callbacks \n",
    "from tensorflow.keras.callbacks import EarlyStopping\n",
    "\n",
    "early_stop = EarlyStopping(monitor=\"val_loss\", mode='min', patience=10)"
   ]
  },
  {
   "cell_type": "code",
   "execution_count": null,
   "id": "75657417",
   "metadata": {},
   "outputs": [],
   "source": [
    "import tensorflow\n",
    "\n",
    "class myCallback(tensorflow.keras.callbacks.Callback):\n",
    "    def on_epoch_end(self, epoch, logs={}):\n",
    "        if(logs.get(\"accuracy\") is not None and logs.get(\"accuracy\")>.9):\n",
    "            print(\"\\nReached 90% accuracy so stopping callback\")\n",
    "            self.model.stop_training=True\n",
    "\n",
    "callbacks1 = myCallback()"
   ]
  },
  {
   "cell_type": "markdown",
   "id": "4407d86f",
   "metadata": {},
   "source": [
    "## Now we will use transfer learning to create Inception Model"
   ]
  },
  {
   "cell_type": "code",
   "execution_count": null,
   "id": "a2c62ab3",
   "metadata": {},
   "outputs": [],
   "source": [
    "from tensorflow.keras.applications.inception_v3 import preprocess_input\n",
    "import tensorflow\n",
    "from tensorflow.keras.models import Model\n",
    "from tensorflow.keras.models import load_model\n",
    "from tensorflow.keras.layers import Input, Conv2D, AveragePooling2D, Flatten, Dense"
   ]
  },
  {
   "cell_type": "code",
   "execution_count": null,
   "id": "da67962c",
   "metadata": {},
   "outputs": [],
   "source": [
    "\n",
    "\n",
    "def my_InceptionV3_function(input_shape=(299, 299, 3), classes=2):\n",
    "    \n",
    "    base_model= tensorflow.keras.applications.InceptionV3(input_shape=input_shape,\n",
    "                                                         include_top=False,\n",
    "                                                         weights='imagenet')\n",
    "    base_model.trainable = False\n",
    "    \n",
    "    # create the input layer (Same as the imageNetv2 input size)\n",
    "    inputs = tensorflow.keras.Input(shape=input_shape) \n",
    "    \n",
    "    # data preprocessing using the same weights the model was trained on\n",
    "    x = preprocess_input(inputs) \n",
    "    \n",
    "    # set training to False to avoid keeping track of statistics in the batch norm layer\n",
    "    x = base_model(x, training=False) \n",
    "    \n",
    "    # Add the new Binary classification layers\n",
    "    # use global avg pooling to summarize the info in each channel\n",
    "    x = tensorflow.keras.layers.GlobalAveragePooling2D()(x) \n",
    "    #include dropout with probability of 0.2 to avoid overfitting\n",
    "    x = tensorflow.keras.layers.Dropout(.2)(x)\n",
    "    x = tensorflow.keras.layers.Dense(classes, activation='softmax')(x)\n",
    "    InceptionV3_model = Model(inputs=inputs, outputs=x)\n",
    "    # Let's compile it\n",
    "    #LeNet_model.compile(optimizer='adam', loss='sparse_categorical_crossentropy', metrics=['accuracy'])\n",
    "    \n",
    "    return InceptionV3_model"
   ]
  },
  {
   "cell_type": "code",
   "execution_count": null,
   "id": "07c2b049",
   "metadata": {},
   "outputs": [],
   "source": [
    "model = my_InceptionV3_function()"
   ]
  },
  {
   "cell_type": "code",
   "execution_count": null,
   "id": "58452dc5",
   "metadata": {},
   "outputs": [],
   "source": [
    "model.summary()"
   ]
  },
  {
   "cell_type": "code",
   "execution_count": null,
   "id": "5ec96d43",
   "metadata": {},
   "outputs": [],
   "source": [
    "#tensorflow.keras.utils.plot_model(model, to_file=\"model.png\", show_shapes=False, show_layer_names=True, rankdir=\"TB\", expand_nested=False, dpi=96, )"
   ]
  },
  {
   "cell_type": "code",
   "execution_count": null,
   "id": "29a823f6",
   "metadata": {},
   "outputs": [],
   "source": [
    "# Compile our model\n",
    "opt = tensorflow.keras.optimizers.Adam(learning_rate=0.01)\n",
    "model.compile(optimizer=opt,loss='sparse_categorical_crossentropy',metrics=['accuracy'])"
   ]
  },
  {
   "cell_type": "code",
   "execution_count": null,
   "id": "5cf8f733",
   "metadata": {},
   "outputs": [],
   "source": [
    "model_history = model.fit(train_generator, steps_per_epoch=8, epochs=100, verbose=2, validation_data = validation_generator,validation_steps =8,callbacks=[early_stop, callbacks1] )"
   ]
  },
  {
   "cell_type": "code",
   "execution_count": null,
   "id": "dfc0ecc5",
   "metadata": {},
   "outputs": [],
   "source": [
    "import pandas as pd\n",
    "import matplotlib.pyplot as plt\n",
    "%matplotlib inline\n",
    "pd.DataFrame(model_history.history).plot()"
   ]
  },
  {
   "cell_type": "code",
   "execution_count": null,
   "id": "b864d9b0",
   "metadata": {},
   "outputs": [],
   "source": []
  },
  {
   "cell_type": "code",
   "execution_count": null,
   "id": "b52df9d8",
   "metadata": {},
   "outputs": [],
   "source": [
    "\n",
    "a = pd.DataFrame(model_history.history)"
   ]
  },
  {
   "cell_type": "code",
   "execution_count": null,
   "id": "3cafc47b",
   "metadata": {},
   "outputs": [],
   "source": [
    "Final_DataFrame=pd.concat([Final_DataFrame, a])"
   ]
  },
  {
   "cell_type": "code",
   "execution_count": null,
   "id": "f5f5aea2",
   "metadata": {},
   "outputs": [],
   "source": [
    "Final_DataFrame"
   ]
  },
  {
   "cell_type": "code",
   "execution_count": null,
   "id": "07b369bf",
   "metadata": {},
   "outputs": [],
   "source": [
    "Final_DataFrame.plot()"
   ]
  },
  {
   "cell_type": "code",
   "execution_count": null,
   "id": "60420ab0",
   "metadata": {},
   "outputs": [],
   "source": [
    "model.save('./saved_models/model1.h5')"
   ]
  },
  {
   "cell_type": "markdown",
   "id": "e6d3129e",
   "metadata": {},
   "source": [
    "## Let's load the model"
   ]
  },
  {
   "cell_type": "code",
   "execution_count": null,
   "id": "ba935e30",
   "metadata": {},
   "outputs": [],
   "source": [
    "model = load_model('./saved_models/model1.h5')"
   ]
  },
  {
   "cell_type": "code",
   "execution_count": null,
   "id": "684a20bc",
   "metadata": {},
   "outputs": [],
   "source": [
    "model.summary()"
   ]
  },
  {
   "cell_type": "markdown",
   "id": "2eb4d96d",
   "metadata": {},
   "source": [
    "## predict"
   ]
  },
  {
   "cell_type": "code",
   "execution_count": null,
   "id": "e0550e7d",
   "metadata": {},
   "outputs": [],
   "source": [
    "from tensorflow.keras.preprocessing.image import ImageDataGenerator\n",
    "test_datagen = ImageDataGenerator(rescale=1./255)\n",
    "test_dir=r\"./datasets/test/\"\n",
    "generator = test_datagen.flow_from_directory(\n",
    "        test_dir,\n",
    "        target_size=(299,299),\n",
    "        batch_size=16,\n",
    "        class_mode='categorical',  # only data, no labels\n",
    "        shuffle=False)  # keep data in same order as labels\n",
    "\n",
    "probabilities = model.predict(generator)"
   ]
  },
  {
   "cell_type": "code",
   "execution_count": null,
   "id": "eb2d312e",
   "metadata": {},
   "outputs": [],
   "source": [
    "probabilites"
   ]
  },
  {
   "cell_type": "code",
   "execution_count": null,
   "id": "6a4e62ba",
   "metadata": {},
   "outputs": [],
   "source": [
    "import pandas as pd\n",
    "Submission_df = pd.read_csv(\"./datasets/sampleSubmission.csv\")"
   ]
  },
  {
   "cell_type": "code",
   "execution_count": null,
   "id": "7ffb3494",
   "metadata": {},
   "outputs": [],
   "source": [
    "Submission_df.head()"
   ]
  },
  {
   "cell_type": "code",
   "execution_count": null,
   "id": "8df6be5d",
   "metadata": {},
   "outputs": [],
   "source": [
    "type(probabilities)"
   ]
  },
  {
   "cell_type": "code",
   "execution_count": null,
   "id": "8eae2590",
   "metadata": {},
   "outputs": [],
   "source": [
    "probabilities.shape"
   ]
  },
  {
   "cell_type": "code",
   "execution_count": null,
   "id": "008575e3",
   "metadata": {},
   "outputs": [],
   "source": [
    "Submission_df.info()"
   ]
  },
  {
   "cell_type": "markdown",
   "id": "c767fda3",
   "metadata": {},
   "source": [
    "## check"
   ]
  },
  {
   "cell_type": "code",
   "execution_count": null,
   "id": "11151878",
   "metadata": {},
   "outputs": [],
   "source": [
    "output = model.predict(validation_generator)"
   ]
  },
  {
   "cell_type": "code",
   "execution_count": null,
   "id": "50333442",
   "metadata": {},
   "outputs": [],
   "source": [
    "output.shape"
   ]
  },
  {
   "cell_type": "code",
   "execution_count": null,
   "id": "37ed6716",
   "metadata": {},
   "outputs": [],
   "source": [
    "import numpy as np\n",
    "np.rint(output)"
   ]
  },
  {
   "cell_type": "code",
   "execution_count": null,
   "id": "32c1d07e",
   "metadata": {},
   "outputs": [],
   "source": [
    "pred=np.argmax(output, axis=1)"
   ]
  },
  {
   "cell_type": "code",
   "execution_count": null,
   "id": "0dee78e7",
   "metadata": {},
   "outputs": [],
   "source": [
    "y_true = validation_generator.classes\n",
    "y_true"
   ]
  },
  {
   "cell_type": "code",
   "execution_count": null,
   "id": "8232d72a",
   "metadata": {},
   "outputs": [],
   "source": [
    "pred.shape, y_true.shape"
   ]
  },
  {
   "cell_type": "code",
   "execution_count": null,
   "id": "1041f7e2",
   "metadata": {},
   "outputs": [],
   "source": [
    "import sklearn\n",
    "from sklearn.metrics import confusion_matrix, classification_report"
   ]
  },
  {
   "cell_type": "code",
   "execution_count": null,
   "id": "b059e215",
   "metadata": {},
   "outputs": [],
   "source": [
    "confusion_matrix(y_true, pred)"
   ]
  },
  {
   "cell_type": "code",
   "execution_count": null,
   "id": "b0651bdc",
   "metadata": {},
   "outputs": [],
   "source": [
    "print(classification_report(y_true, pred))"
   ]
  },
  {
   "cell_type": "code",
   "execution_count": null,
   "id": "d59ce560",
   "metadata": {},
   "outputs": [],
   "source": [
    "final_output = np.argmax(probabilities, axis=1)"
   ]
  },
  {
   "cell_type": "code",
   "execution_count": null,
   "id": "a219e260",
   "metadata": {},
   "outputs": [],
   "source": [
    "len(final_output)"
   ]
  },
  {
   "cell_type": "code",
   "execution_count": null,
   "id": "0e39f73a",
   "metadata": {},
   "outputs": [],
   "source": [
    "Submission_df['label1']= final_output"
   ]
  },
  {
   "cell_type": "code",
   "execution_count": null,
   "id": "019eebc7",
   "metadata": {},
   "outputs": [],
   "source": [
    "Submission_df.head()"
   ]
  },
  {
   "cell_type": "code",
   "execution_count": null,
   "id": "39d37ca5",
   "metadata": {},
   "outputs": [],
   "source": [
    "Submission_df['label'] = final_output"
   ]
  },
  {
   "cell_type": "code",
   "execution_count": null,
   "id": "686a3e4c",
   "metadata": {},
   "outputs": [],
   "source": [
    "Submission_df.drop('label1', axis=1,inplace=True)"
   ]
  },
  {
   "cell_type": "code",
   "execution_count": null,
   "id": "74eccf46",
   "metadata": {},
   "outputs": [],
   "source": [
    "Submission_df.to_csv(\"./saved_outputs/sub1.csv\")"
   ]
  },
  {
   "cell_type": "code",
   "execution_count": null,
   "id": "ec6ead68",
   "metadata": {},
   "outputs": [],
   "source": []
  }
 ],
 "metadata": {
  "kernelspec": {
   "display_name": "Python 3",
   "language": "python",
   "name": "python3"
  },
  "language_info": {
   "codemirror_mode": {
    "name": "ipython",
    "version": 3
   },
   "file_extension": ".py",
   "mimetype": "text/x-python",
   "name": "python",
   "nbconvert_exporter": "python",
   "pygments_lexer": "ipython3",
   "version": "3.8.10"
  }
 },
 "nbformat": 4,
 "nbformat_minor": 5
}
